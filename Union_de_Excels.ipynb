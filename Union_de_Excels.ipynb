{
 "cells": [
  {
   "cell_type": "markdown",
   "id": "3f4d37f9",
   "metadata": {},
   "source": [
    "                                    ··· Script para fusionar documentos de excel ···\n",
    "                                                Abraham Bravo Morales"
   ]
  },
  {
   "cell_type": "code",
   "execution_count": 1,
   "id": "80520c3e",
   "metadata": {},
   "outputs": [],
   "source": [
    "#Importacion de librerias\n",
    "from openpyxl import load_workbook\n",
    "from openpyxl import Workbook\n",
    "import os"
   ]
  },
  {
   "cell_type": "code",
   "execution_count": null,
   "id": "edd35118",
   "metadata": {},
   "outputs": [
    {
     "name": "stdout",
     "output_type": "stream",
     "text": [
      "Nombre del documento unificado: (introduce .clsx): unionfi.xlsx\n"
     ]
    }
   ],
   "source": [
    "# Funcion para leer y devolver la lista\n",
    "\n",
    "def reader(file):\n",
    "    global path\n",
    "    abs_file = os.path.join(path, file)\n",
    "    wb_sheet = load_workbook(abs_file).active\n",
    "    rows = []\n",
    "    # >>>>>> IMPORTANTE: ignora la primera fila que contiene encabezados(min_row se establece en 2) <<<<<<<<<<<<\n",
    "    # >>>>>> Si quiere que fusione incluyendo encabezados establezca min_row en 1\n",
    "    for row in wb_sheet.iter_rows(min_row=2):\n",
    "        row_data = []\n",
    "        for cell in row:\n",
    "            row_data.append(cell.value)\n",
    "        rows.append(row_data)\n",
    "    return rows\n",
    "\n",
    "\n",
    "# Nombre del excel unificado\n",
    "workbook_name = input('Nombre del documento unificado: (introduce .clsx): ')\n",
    "book = Workbook()\n",
    "sheet = book.active\n",
    "# especifica el path de la carpeta donde estan los archivos a fusionar\n",
    "path = input('Path: ')\n",
    "\n",
    "\n",
    "files = os.listdir(path)\n",
    "for file in files:\n",
    "    rows = reader(file)\n",
    "    for row in rows:\n",
    "        sheet.append(row)\n",
    "    book.save(filename=workbook_name)\n"
   ]
  },
  {
   "cell_type": "code",
   "execution_count": null,
   "id": "7a0d14dd",
   "metadata": {},
   "outputs": [],
   "source": []
  }
 ],
 "metadata": {
  "kernelspec": {
   "display_name": "Python 3",
   "language": "python",
   "name": "python3"
  },
  "language_info": {
   "codemirror_mode": {
    "name": "ipython",
    "version": 3
   },
   "file_extension": ".py",
   "mimetype": "text/x-python",
   "name": "python",
   "nbconvert_exporter": "python",
   "pygments_lexer": "ipython3",
   "version": "3.8.8"
  }
 },
 "nbformat": 4,
 "nbformat_minor": 5
}
